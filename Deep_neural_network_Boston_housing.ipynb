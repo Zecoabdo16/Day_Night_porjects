{
  "nbformat": 4,
  "nbformat_minor": 0,
  "metadata": {
    "colab": {
      "name": "Deep_neural_network.ipynb",
      "provenance": [],
      "collapsed_sections": []
    },
    "kernelspec": {
      "name": "python3",
      "display_name": "Python 3"
    },
    "language_info": {
      "name": "python"
    },
    "accelerator": "GPU"
  },
  "cells": [
    {
      "cell_type": "code",
      "metadata": {
        "id": "bLFV_s5NWkrl"
      },
      "source": [
        "import keras\n",
        "from keras.datasets import boston_housing\n",
        "\n",
        "from keras.models import Sequential\n",
        "from keras.layers import Dense, Dropout\n",
        "from keras.optimizers import RMSprop\n",
        "from keras.callbacks import EarlyStopping\n",
        "from sklearn import preprocessing\n",
        "from sklearn.preprocessing import scale\n",
        "import numpy as np"
      ],
      "execution_count": 72,
      "outputs": []
    },
    {
      "cell_type": "code",
      "metadata": {
        "id": "bC7FfABY4mgD"
      },
      "source": [
        "(x_train, y_train), (x_test, y_test) = boston_housing.load_data()\n",
        "x_train_scaled = preprocessing.scale(x_train)\n",
        "scaler = preprocessing.StandardScaler().fit(x_train)\n",
        "x_test_scaled = scaler.transform(x_test)\n"
      ],
      "execution_count": 73,
      "outputs": []
    },
    {
      "cell_type": "code",
      "metadata": {
        "id": "ou0BfMKeXLJJ",
        "colab": {
          "base_uri": "https://localhost:8080/"
        },
        "outputId": "5098b76a-d297-45fb-a614-d45ec42bf028"
      },
      "source": [
        "model = Sequential()\n",
        "model.add(Dense(64, activation='relu', input_shape=(13,)))\n",
        "model.add(Dense(64, activation='relu'))\n",
        "\n",
        "model.add(Dense(1, activation='relu'))\n",
        "\n",
        "model.compile(loss='mse', \n",
        " optimizer=RMSprop(), \n",
        " metrics=['mse'])\n",
        "\n",
        "\n",
        "\n",
        "history = model.fit(x_train_scaled, y_train,\n",
        " batch_size=128,\n",
        "epochs=500,\n",
        "verbose=1,\n",
        "validation_split = 0.2,\n",
        "callbacks = [EarlyStopping(monitor = 'val_loss', patience = \n",
        "20)])"
      ],
      "execution_count": 74,
      "outputs": [
        {
          "output_type": "stream",
          "text": [
            "Epoch 1/500\n",
            "3/3 [==============================] - 1s 137ms/step - loss: 559.7583 - mse: 559.7583 - val_loss: 590.6465 - val_mse: 590.6465\n",
            "Epoch 2/500\n",
            "3/3 [==============================] - 0s 16ms/step - loss: 524.7598 - mse: 524.7598 - val_loss: 563.2877 - val_mse: 563.2877\n",
            "Epoch 3/500\n",
            "3/3 [==============================] - 0s 14ms/step - loss: 504.5732 - mse: 504.5732 - val_loss: 537.4183 - val_mse: 537.4183\n",
            "Epoch 4/500\n",
            "3/3 [==============================] - 0s 16ms/step - loss: 459.8810 - mse: 459.8810 - val_loss: 510.8948 - val_mse: 510.8948\n",
            "Epoch 5/500\n",
            "3/3 [==============================] - 0s 13ms/step - loss: 453.6940 - mse: 453.6940 - val_loss: 484.1638 - val_mse: 484.1638\n",
            "Epoch 6/500\n",
            "3/3 [==============================] - 0s 14ms/step - loss: 425.8442 - mse: 425.8442 - val_loss: 456.8513 - val_mse: 456.8513\n",
            "Epoch 7/500\n",
            "3/3 [==============================] - 0s 18ms/step - loss: 393.8027 - mse: 393.8027 - val_loss: 428.4756 - val_mse: 428.4756\n",
            "Epoch 8/500\n",
            "3/3 [==============================] - 0s 15ms/step - loss: 364.4983 - mse: 364.4983 - val_loss: 399.2580 - val_mse: 399.2580\n",
            "Epoch 9/500\n",
            "3/3 [==============================] - 0s 16ms/step - loss: 330.4753 - mse: 330.4753 - val_loss: 369.9732 - val_mse: 369.9732\n",
            "Epoch 10/500\n",
            "3/3 [==============================] - 0s 16ms/step - loss: 309.2469 - mse: 309.2469 - val_loss: 340.6210 - val_mse: 340.6210\n",
            "Epoch 11/500\n",
            "3/3 [==============================] - 0s 15ms/step - loss: 293.9143 - mse: 293.9143 - val_loss: 312.0385 - val_mse: 312.0385\n",
            "Epoch 12/500\n",
            "3/3 [==============================] - 0s 18ms/step - loss: 259.0904 - mse: 259.0904 - val_loss: 283.7983 - val_mse: 283.7983\n",
            "Epoch 13/500\n",
            "3/3 [==============================] - 0s 14ms/step - loss: 220.6867 - mse: 220.6867 - val_loss: 255.4331 - val_mse: 255.4331\n",
            "Epoch 14/500\n",
            "3/3 [==============================] - 0s 15ms/step - loss: 200.2700 - mse: 200.2700 - val_loss: 227.9967 - val_mse: 227.9967\n",
            "Epoch 15/500\n",
            "3/3 [==============================] - 0s 14ms/step - loss: 192.8371 - mse: 192.8371 - val_loss: 203.5688 - val_mse: 203.5688\n",
            "Epoch 16/500\n",
            "3/3 [==============================] - 0s 13ms/step - loss: 152.4621 - mse: 152.4621 - val_loss: 179.6165 - val_mse: 179.6165\n",
            "Epoch 17/500\n",
            "3/3 [==============================] - 0s 14ms/step - loss: 136.1929 - mse: 136.1929 - val_loss: 158.5485 - val_mse: 158.5485\n",
            "Epoch 18/500\n",
            "3/3 [==============================] - 0s 23ms/step - loss: 128.1049 - mse: 128.1049 - val_loss: 140.3872 - val_mse: 140.3872\n",
            "Epoch 19/500\n",
            "3/3 [==============================] - 0s 16ms/step - loss: 101.4264 - mse: 101.4264 - val_loss: 123.5918 - val_mse: 123.5918\n",
            "Epoch 20/500\n",
            "3/3 [==============================] - 0s 15ms/step - loss: 94.5240 - mse: 94.5240 - val_loss: 109.7305 - val_mse: 109.7305\n",
            "Epoch 21/500\n",
            "3/3 [==============================] - 0s 14ms/step - loss: 80.5721 - mse: 80.5721 - val_loss: 97.7942 - val_mse: 97.7942\n",
            "Epoch 22/500\n",
            "3/3 [==============================] - 0s 14ms/step - loss: 74.5163 - mse: 74.5163 - val_loss: 87.8417 - val_mse: 87.8417\n",
            "Epoch 23/500\n",
            "3/3 [==============================] - 0s 27ms/step - loss: 63.6595 - mse: 63.6595 - val_loss: 78.9405 - val_mse: 78.9405\n",
            "Epoch 24/500\n",
            "3/3 [==============================] - 0s 15ms/step - loss: 58.2300 - mse: 58.2300 - val_loss: 71.4427 - val_mse: 71.4427\n",
            "Epoch 25/500\n",
            "3/3 [==============================] - 0s 16ms/step - loss: 58.4407 - mse: 58.4407 - val_loss: 65.7089 - val_mse: 65.7089\n",
            "Epoch 26/500\n",
            "3/3 [==============================] - 0s 13ms/step - loss: 55.2758 - mse: 55.2758 - val_loss: 60.6582 - val_mse: 60.6582\n",
            "Epoch 27/500\n",
            "3/3 [==============================] - 0s 13ms/step - loss: 50.6889 - mse: 50.6889 - val_loss: 56.3528 - val_mse: 56.3528\n",
            "Epoch 28/500\n",
            "3/3 [==============================] - 0s 25ms/step - loss: 47.8256 - mse: 47.8256 - val_loss: 52.3763 - val_mse: 52.3763\n",
            "Epoch 29/500\n",
            "3/3 [==============================] - 0s 14ms/step - loss: 44.5856 - mse: 44.5856 - val_loss: 49.0531 - val_mse: 49.0531\n",
            "Epoch 30/500\n",
            "3/3 [==============================] - 0s 14ms/step - loss: 38.1804 - mse: 38.1804 - val_loss: 45.5987 - val_mse: 45.5987\n",
            "Epoch 31/500\n",
            "3/3 [==============================] - 0s 13ms/step - loss: 38.3193 - mse: 38.3193 - val_loss: 42.2896 - val_mse: 42.2896\n",
            "Epoch 32/500\n",
            "3/3 [==============================] - 0s 15ms/step - loss: 33.9381 - mse: 33.9381 - val_loss: 39.4177 - val_mse: 39.4177\n",
            "Epoch 33/500\n",
            "3/3 [==============================] - 0s 15ms/step - loss: 34.5010 - mse: 34.5010 - val_loss: 37.3095 - val_mse: 37.3095\n",
            "Epoch 34/500\n",
            "3/3 [==============================] - 0s 14ms/step - loss: 28.2541 - mse: 28.2541 - val_loss: 35.0037 - val_mse: 35.0037\n",
            "Epoch 35/500\n",
            "3/3 [==============================] - 0s 24ms/step - loss: 32.1976 - mse: 32.1976 - val_loss: 32.9598 - val_mse: 32.9598\n",
            "Epoch 36/500\n",
            "3/3 [==============================] - 0s 18ms/step - loss: 29.5197 - mse: 29.5197 - val_loss: 31.1387 - val_mse: 31.1387\n",
            "Epoch 37/500\n",
            "3/3 [==============================] - 0s 15ms/step - loss: 28.3078 - mse: 28.3078 - val_loss: 29.6738 - val_mse: 29.6738\n",
            "Epoch 38/500\n",
            "3/3 [==============================] - 0s 14ms/step - loss: 25.9603 - mse: 25.9603 - val_loss: 28.4912 - val_mse: 28.4912\n",
            "Epoch 39/500\n",
            "3/3 [==============================] - 0s 14ms/step - loss: 23.0228 - mse: 23.0228 - val_loss: 27.1378 - val_mse: 27.1378\n",
            "Epoch 40/500\n",
            "3/3 [==============================] - 0s 14ms/step - loss: 26.6970 - mse: 26.6970 - val_loss: 26.3203 - val_mse: 26.3203\n",
            "Epoch 41/500\n",
            "3/3 [==============================] - 0s 23ms/step - loss: 23.6352 - mse: 23.6352 - val_loss: 25.5660 - val_mse: 25.5660\n",
            "Epoch 42/500\n",
            "3/3 [==============================] - 0s 14ms/step - loss: 20.7793 - mse: 20.7793 - val_loss: 24.7572 - val_mse: 24.7572\n",
            "Epoch 43/500\n",
            "3/3 [==============================] - 0s 14ms/step - loss: 21.5072 - mse: 21.5072 - val_loss: 24.8170 - val_mse: 24.8170\n",
            "Epoch 44/500\n",
            "3/3 [==============================] - 0s 14ms/step - loss: 23.3464 - mse: 23.3464 - val_loss: 23.4319 - val_mse: 23.4319\n",
            "Epoch 45/500\n",
            "3/3 [==============================] - 0s 14ms/step - loss: 22.9695 - mse: 22.9695 - val_loss: 22.6752 - val_mse: 22.6752\n",
            "Epoch 46/500\n",
            "3/3 [==============================] - 0s 16ms/step - loss: 19.9495 - mse: 19.9495 - val_loss: 22.2672 - val_mse: 22.2672\n",
            "Epoch 47/500\n",
            "3/3 [==============================] - 0s 18ms/step - loss: 21.1737 - mse: 21.1737 - val_loss: 21.6717 - val_mse: 21.6717\n",
            "Epoch 48/500\n",
            "3/3 [==============================] - 0s 15ms/step - loss: 18.6539 - mse: 18.6539 - val_loss: 21.3034 - val_mse: 21.3034\n",
            "Epoch 49/500\n",
            "3/3 [==============================] - 0s 16ms/step - loss: 20.3690 - mse: 20.3690 - val_loss: 20.8088 - val_mse: 20.8088\n",
            "Epoch 50/500\n",
            "3/3 [==============================] - 0s 15ms/step - loss: 19.9467 - mse: 19.9467 - val_loss: 20.1532 - val_mse: 20.1532\n",
            "Epoch 51/500\n",
            "3/3 [==============================] - 0s 15ms/step - loss: 18.3771 - mse: 18.3771 - val_loss: 19.7943 - val_mse: 19.7943\n",
            "Epoch 52/500\n",
            "3/3 [==============================] - 0s 15ms/step - loss: 17.1913 - mse: 17.1913 - val_loss: 19.5945 - val_mse: 19.5945\n",
            "Epoch 53/500\n",
            "3/3 [==============================] - 0s 15ms/step - loss: 20.5787 - mse: 20.5787 - val_loss: 19.3425 - val_mse: 19.3425\n",
            "Epoch 54/500\n",
            "3/3 [==============================] - 0s 15ms/step - loss: 18.2821 - mse: 18.2821 - val_loss: 18.8508 - val_mse: 18.8508\n",
            "Epoch 55/500\n",
            "3/3 [==============================] - 0s 15ms/step - loss: 16.3489 - mse: 16.3489 - val_loss: 18.5060 - val_mse: 18.5060\n",
            "Epoch 56/500\n",
            "3/3 [==============================] - 0s 24ms/step - loss: 16.0558 - mse: 16.0558 - val_loss: 17.9481 - val_mse: 17.9481\n",
            "Epoch 57/500\n",
            "3/3 [==============================] - 0s 15ms/step - loss: 16.0693 - mse: 16.0693 - val_loss: 17.6890 - val_mse: 17.6890\n",
            "Epoch 58/500\n",
            "3/3 [==============================] - 0s 14ms/step - loss: 14.5676 - mse: 14.5676 - val_loss: 17.5913 - val_mse: 17.5913\n",
            "Epoch 59/500\n",
            "3/3 [==============================] - 0s 15ms/step - loss: 15.2002 - mse: 15.2002 - val_loss: 17.1471 - val_mse: 17.1471\n",
            "Epoch 60/500\n",
            "3/3 [==============================] - 0s 20ms/step - loss: 16.1484 - mse: 16.1484 - val_loss: 17.4590 - val_mse: 17.4590\n",
            "Epoch 61/500\n",
            "3/3 [==============================] - 0s 16ms/step - loss: 15.8705 - mse: 15.8705 - val_loss: 16.6600 - val_mse: 16.6600\n",
            "Epoch 62/500\n",
            "3/3 [==============================] - 0s 15ms/step - loss: 13.5323 - mse: 13.5323 - val_loss: 16.6867 - val_mse: 16.6867\n",
            "Epoch 63/500\n",
            "3/3 [==============================] - 0s 14ms/step - loss: 14.9890 - mse: 14.9890 - val_loss: 16.2222 - val_mse: 16.2222\n",
            "Epoch 64/500\n",
            "3/3 [==============================] - 0s 15ms/step - loss: 16.2879 - mse: 16.2879 - val_loss: 15.8360 - val_mse: 15.8360\n",
            "Epoch 65/500\n",
            "3/3 [==============================] - 0s 15ms/step - loss: 13.0344 - mse: 13.0344 - val_loss: 15.8815 - val_mse: 15.8815\n",
            "Epoch 66/500\n",
            "3/3 [==============================] - 0s 19ms/step - loss: 13.8114 - mse: 13.8114 - val_loss: 15.9038 - val_mse: 15.9038\n",
            "Epoch 67/500\n",
            "3/3 [==============================] - 0s 14ms/step - loss: 14.6111 - mse: 14.6111 - val_loss: 15.4267 - val_mse: 15.4267\n",
            "Epoch 68/500\n",
            "3/3 [==============================] - 0s 14ms/step - loss: 11.9801 - mse: 11.9801 - val_loss: 16.4397 - val_mse: 16.4397\n",
            "Epoch 69/500\n",
            "3/3 [==============================] - 0s 14ms/step - loss: 13.7084 - mse: 13.7084 - val_loss: 15.0840 - val_mse: 15.0840\n",
            "Epoch 70/500\n",
            "3/3 [==============================] - 0s 14ms/step - loss: 15.3726 - mse: 15.3726 - val_loss: 14.8476 - val_mse: 14.8476\n",
            "Epoch 71/500\n",
            "3/3 [==============================] - 0s 14ms/step - loss: 14.2346 - mse: 14.2346 - val_loss: 14.7140 - val_mse: 14.7140\n",
            "Epoch 72/500\n",
            "3/3 [==============================] - 0s 16ms/step - loss: 11.2980 - mse: 11.2980 - val_loss: 14.8425 - val_mse: 14.8425\n",
            "Epoch 73/500\n",
            "3/3 [==============================] - 0s 23ms/step - loss: 13.0511 - mse: 13.0511 - val_loss: 14.4857 - val_mse: 14.4857\n",
            "Epoch 74/500\n",
            "3/3 [==============================] - 0s 15ms/step - loss: 11.5982 - mse: 11.5982 - val_loss: 14.7430 - val_mse: 14.7430\n",
            "Epoch 75/500\n",
            "3/3 [==============================] - 0s 16ms/step - loss: 10.8357 - mse: 10.8357 - val_loss: 15.0371 - val_mse: 15.0371\n",
            "Epoch 76/500\n",
            "3/3 [==============================] - 0s 16ms/step - loss: 11.7204 - mse: 11.7204 - val_loss: 14.5318 - val_mse: 14.5318\n",
            "Epoch 77/500\n",
            "3/3 [==============================] - 0s 14ms/step - loss: 10.8652 - mse: 10.8652 - val_loss: 14.7709 - val_mse: 14.7709\n",
            "Epoch 78/500\n",
            "3/3 [==============================] - 0s 14ms/step - loss: 11.2888 - mse: 11.2888 - val_loss: 14.6328 - val_mse: 14.6328\n",
            "Epoch 79/500\n",
            "3/3 [==============================] - 0s 14ms/step - loss: 12.8138 - mse: 12.8138 - val_loss: 14.2021 - val_mse: 14.2021\n",
            "Epoch 80/500\n",
            "3/3 [==============================] - 0s 14ms/step - loss: 12.0328 - mse: 12.0328 - val_loss: 14.3370 - val_mse: 14.3370\n",
            "Epoch 81/500\n",
            "3/3 [==============================] - 0s 15ms/step - loss: 11.8209 - mse: 11.8209 - val_loss: 14.2387 - val_mse: 14.2387\n",
            "Epoch 82/500\n",
            "3/3 [==============================] - 0s 22ms/step - loss: 9.5275 - mse: 9.5275 - val_loss: 14.9576 - val_mse: 14.9576\n",
            "Epoch 83/500\n",
            "3/3 [==============================] - 0s 14ms/step - loss: 11.8474 - mse: 11.8474 - val_loss: 14.3814 - val_mse: 14.3814\n",
            "Epoch 84/500\n",
            "3/3 [==============================] - 0s 15ms/step - loss: 10.7671 - mse: 10.7671 - val_loss: 14.4381 - val_mse: 14.4381\n",
            "Epoch 85/500\n",
            "3/3 [==============================] - 0s 14ms/step - loss: 10.0633 - mse: 10.0633 - val_loss: 14.3709 - val_mse: 14.3709\n",
            "Epoch 86/500\n",
            "3/3 [==============================] - 0s 15ms/step - loss: 10.4931 - mse: 10.4931 - val_loss: 14.1663 - val_mse: 14.1663\n",
            "Epoch 87/500\n",
            "3/3 [==============================] - 0s 14ms/step - loss: 10.9374 - mse: 10.9374 - val_loss: 14.0474 - val_mse: 14.0474\n",
            "Epoch 88/500\n",
            "3/3 [==============================] - 0s 16ms/step - loss: 8.7036 - mse: 8.7036 - val_loss: 14.7376 - val_mse: 14.7376\n",
            "Epoch 89/500\n",
            "3/3 [==============================] - 0s 14ms/step - loss: 9.7060 - mse: 9.7060 - val_loss: 14.1488 - val_mse: 14.1488\n",
            "Epoch 90/500\n",
            "3/3 [==============================] - 0s 14ms/step - loss: 10.7831 - mse: 10.7831 - val_loss: 13.9881 - val_mse: 13.9881\n",
            "Epoch 91/500\n",
            "3/3 [==============================] - 0s 14ms/step - loss: 10.9757 - mse: 10.9757 - val_loss: 13.8416 - val_mse: 13.8416\n",
            "Epoch 92/500\n",
            "3/3 [==============================] - 0s 17ms/step - loss: 9.3100 - mse: 9.3100 - val_loss: 14.3323 - val_mse: 14.3323\n",
            "Epoch 93/500\n",
            "3/3 [==============================] - 0s 15ms/step - loss: 10.9613 - mse: 10.9613 - val_loss: 13.8706 - val_mse: 13.8706\n",
            "Epoch 94/500\n",
            "3/3 [==============================] - 0s 14ms/step - loss: 8.7366 - mse: 8.7366 - val_loss: 14.0597 - val_mse: 14.0597\n",
            "Epoch 95/500\n",
            "3/3 [==============================] - 0s 14ms/step - loss: 8.5280 - mse: 8.5280 - val_loss: 14.5849 - val_mse: 14.5849\n",
            "Epoch 96/500\n",
            "3/3 [==============================] - 0s 14ms/step - loss: 11.0160 - mse: 11.0160 - val_loss: 14.2670 - val_mse: 14.2670\n",
            "Epoch 97/500\n",
            "3/3 [==============================] - 0s 13ms/step - loss: 10.7671 - mse: 10.7671 - val_loss: 14.1791 - val_mse: 14.1791\n",
            "Epoch 98/500\n",
            "3/3 [==============================] - 0s 17ms/step - loss: 9.8741 - mse: 9.8741 - val_loss: 14.1968 - val_mse: 14.1968\n",
            "Epoch 99/500\n",
            "3/3 [==============================] - 0s 14ms/step - loss: 9.4951 - mse: 9.4951 - val_loss: 14.4445 - val_mse: 14.4445\n",
            "Epoch 100/500\n",
            "3/3 [==============================] - 0s 13ms/step - loss: 10.2270 - mse: 10.2270 - val_loss: 14.1362 - val_mse: 14.1362\n",
            "Epoch 101/500\n",
            "3/3 [==============================] - 0s 15ms/step - loss: 9.6230 - mse: 9.6230 - val_loss: 14.3740 - val_mse: 14.3740\n",
            "Epoch 102/500\n",
            "3/3 [==============================] - 0s 14ms/step - loss: 9.2376 - mse: 9.2376 - val_loss: 13.8806 - val_mse: 13.8806\n",
            "Epoch 103/500\n",
            "3/3 [==============================] - 0s 18ms/step - loss: 8.9658 - mse: 8.9658 - val_loss: 14.1898 - val_mse: 14.1898\n",
            "Epoch 104/500\n",
            "3/3 [==============================] - 0s 15ms/step - loss: 10.0970 - mse: 10.0970 - val_loss: 14.0422 - val_mse: 14.0422\n",
            "Epoch 105/500\n",
            "3/3 [==============================] - 0s 14ms/step - loss: 9.7200 - mse: 9.7200 - val_loss: 14.5662 - val_mse: 14.5662\n",
            "Epoch 106/500\n",
            "3/3 [==============================] - 0s 14ms/step - loss: 9.1954 - mse: 9.1954 - val_loss: 13.8229 - val_mse: 13.8229\n",
            "Epoch 107/500\n",
            "3/3 [==============================] - 0s 15ms/step - loss: 8.6187 - mse: 8.6187 - val_loss: 14.7215 - val_mse: 14.7215\n",
            "Epoch 108/500\n",
            "3/3 [==============================] - 0s 21ms/step - loss: 8.3190 - mse: 8.3190 - val_loss: 14.8448 - val_mse: 14.8448\n",
            "Epoch 109/500\n",
            "3/3 [==============================] - 0s 14ms/step - loss: 9.4535 - mse: 9.4535 - val_loss: 13.7579 - val_mse: 13.7579\n",
            "Epoch 110/500\n",
            "3/3 [==============================] - 0s 15ms/step - loss: 10.3280 - mse: 10.3280 - val_loss: 14.0313 - val_mse: 14.0313\n",
            "Epoch 111/500\n",
            "3/3 [==============================] - 0s 14ms/step - loss: 9.8507 - mse: 9.8507 - val_loss: 13.7308 - val_mse: 13.7308\n",
            "Epoch 112/500\n",
            "3/3 [==============================] - 0s 15ms/step - loss: 9.4022 - mse: 9.4022 - val_loss: 14.2196 - val_mse: 14.2196\n",
            "Epoch 113/500\n",
            "3/3 [==============================] - 0s 15ms/step - loss: 9.1002 - mse: 9.1002 - val_loss: 14.0632 - val_mse: 14.0632\n",
            "Epoch 114/500\n",
            "3/3 [==============================] - 0s 22ms/step - loss: 8.5249 - mse: 8.5249 - val_loss: 14.2914 - val_mse: 14.2914\n",
            "Epoch 115/500\n",
            "3/3 [==============================] - 0s 14ms/step - loss: 7.9563 - mse: 7.9563 - val_loss: 14.5829 - val_mse: 14.5829\n",
            "Epoch 116/500\n",
            "3/3 [==============================] - 0s 14ms/step - loss: 8.8183 - mse: 8.8183 - val_loss: 14.1379 - val_mse: 14.1379\n",
            "Epoch 117/500\n",
            "3/3 [==============================] - 0s 19ms/step - loss: 8.6755 - mse: 8.6755 - val_loss: 13.8858 - val_mse: 13.8858\n",
            "Epoch 118/500\n",
            "3/3 [==============================] - 0s 15ms/step - loss: 9.0428 - mse: 9.0428 - val_loss: 14.0888 - val_mse: 14.0888\n",
            "Epoch 119/500\n",
            "3/3 [==============================] - 0s 14ms/step - loss: 8.0432 - mse: 8.0432 - val_loss: 14.1287 - val_mse: 14.1287\n",
            "Epoch 120/500\n",
            "3/3 [==============================] - 0s 15ms/step - loss: 8.4197 - mse: 8.4197 - val_loss: 14.6234 - val_mse: 14.6234\n",
            "Epoch 121/500\n",
            "3/3 [==============================] - 0s 14ms/step - loss: 8.4225 - mse: 8.4225 - val_loss: 14.3863 - val_mse: 14.3863\n",
            "Epoch 122/500\n",
            "3/3 [==============================] - 0s 13ms/step - loss: 8.2789 - mse: 8.2789 - val_loss: 15.0633 - val_mse: 15.0633\n",
            "Epoch 123/500\n",
            "3/3 [==============================] - 0s 14ms/step - loss: 7.9135 - mse: 7.9135 - val_loss: 15.2832 - val_mse: 15.2832\n",
            "Epoch 124/500\n",
            "3/3 [==============================] - 0s 13ms/step - loss: 7.9792 - mse: 7.9792 - val_loss: 14.1432 - val_mse: 14.1432\n",
            "Epoch 125/500\n",
            "3/3 [==============================] - 0s 18ms/step - loss: 8.3198 - mse: 8.3198 - val_loss: 14.1425 - val_mse: 14.1425\n",
            "Epoch 126/500\n",
            "3/3 [==============================] - 0s 15ms/step - loss: 8.2502 - mse: 8.2502 - val_loss: 13.8794 - val_mse: 13.8794\n",
            "Epoch 127/500\n",
            "3/3 [==============================] - 0s 14ms/step - loss: 7.9792 - mse: 7.9792 - val_loss: 14.3949 - val_mse: 14.3949\n",
            "Epoch 128/500\n",
            "3/3 [==============================] - 0s 14ms/step - loss: 7.9447 - mse: 7.9447 - val_loss: 14.4173 - val_mse: 14.4173\n",
            "Epoch 129/500\n",
            "3/3 [==============================] - 0s 15ms/step - loss: 7.8570 - mse: 7.8570 - val_loss: 14.8198 - val_mse: 14.8198\n",
            "Epoch 130/500\n",
            "3/3 [==============================] - 0s 14ms/step - loss: 8.8518 - mse: 8.8518 - val_loss: 14.1658 - val_mse: 14.1658\n",
            "Epoch 131/500\n",
            "3/3 [==============================] - 0s 14ms/step - loss: 6.9556 - mse: 6.9556 - val_loss: 15.3832 - val_mse: 15.3832\n"
          ],
          "name": "stdout"
        }
      ]
    },
    {
      "cell_type": "code",
      "metadata": {
        "colab": {
          "base_uri": "https://localhost:8080/",
          "height": 312
        },
        "id": "5BVdraPibu8C",
        "outputId": "0c3bb9e4-a7d0-4e48-ae66-3a848ce29062"
      },
      "source": [
        "plt.plot(history.history['mse'])\n",
        "plt.plot(history.history['mse'])\n",
        "plt.title('Model mse')\n",
        "plt.ylabel('mse')\n",
        "plt.xlabel('Epoch')\n",
        "plt.legend(['Train', 'Test'], loc='upper right')\n",
        "plt.show()"
      ],
      "execution_count": 75,
      "outputs": [
        {
          "output_type": "display_data",
          "data": {
            "image/png": "[encoded data removed]",
            "text/plain": [
              "<Figure size 432x288 with 1 Axes>"
            ]
          },
          "metadata": {
            "tags": [],
            "needs_background": "light"
          }
        }
      ]
    },
    {
      "cell_type": "code",
      "metadata": {
        "colab": {
          "base_uri": "https://localhost:8080/",
          "height": 312
        },
        "id": "hTJ6n6nS7QNg",
        "outputId": "d9237d17-0afd-4364-d126-4bcf72e482a0"
      },
      "source": [
        "plt.plot(history.history['loss'])\n",
        "plt.plot(history.history['loss'])\n",
        "plt.title('Model loss')\n",
        "plt.ylabel('loss')\n",
        "plt.xlabel('Epoch')\n",
        "plt.legend(['Train', 'Test'], loc='upper right')\n",
        "plt.show()"
      ],
      "execution_count": 76,
      "outputs": [
        {
          "output_type": "display_data",
          "data": {
            "image/png": "[encoded data removed]",
            "text/plain": [
              "<Figure size 432x288 with 1 Axes>"
            ]
          },
          "metadata": {
            "tags": [],
            "needs_background": "light"
          }
        }
      ]
    },
    {
      "cell_type": "code",
      "metadata": {
        "id": "__yjepLgb5oV",
        "colab": {
          "base_uri": "https://localhost:8080/"
        },
        "outputId": "b3a0628b-fa18-43d6-a884-df4041729d47"
      },
      "source": [
        "score = model.evaluate(x_test_scaled, y_test, verbose=0)\n",
        "print('Test loss:', score[0])\n",
        "print('Test accuracy:', score[1])"
      ],
      "execution_count": 77,
      "outputs": [
        {
          "output_type": "stream",
          "text": [
            "Test loss: 26.947986602783203\n",
            "Test accuracy: 26.947986602783203\n"
          ],
          "name": "stdout"
        }
      ]
    },
    {
      "cell_type": "code",
      "metadata": {
        "colab": {
          "base_uri": "https://localhost:8080/"
        },
        "id": "FX8MYvr48Ed-",
        "outputId": "cba61beb-9b6c-4939-bdef-687599d422cc"
      },
      "source": [
        "\n",
        "prediction = model.predict(x_test_scaled)\n",
        "print(prediction.flatten())\n",
        "print(y_test)\n"
      ],
      "execution_count": 78,
      "outputs": [
        {
          "output_type": "stream",
          "text": [
            "[ 8.263525  18.993547  21.146301  32.214245  25.141977  19.216026\n",
            " 27.089848  21.74876   19.325846  23.704418  16.794075  17.231102\n",
            " 15.019115  42.598347  19.581154  18.953043  26.80234   21.530005\n",
            " 21.305714  38.93907   12.616013  15.412332  20.672749  14.882706\n",
            " 20.754652  26.0904    31.43596   29.05463   10.64971   20.486485\n",
            " 19.235722  15.1076765 33.171402  25.321917  18.681671   8.374042\n",
            " 16.153984  18.069891  20.728167  26.820433  30.069527  28.195074\n",
            " 15.251356  40.91298   30.325724  25.254803  26.79948   16.810633\n",
            " 24.663754  22.14035   35.00549   19.64227   13.359828  14.975404\n",
            " 35.62596   28.27508   12.836162  49.09989   34.0214    23.681183\n",
            " 25.808107  18.110725  15.346511  18.183266  23.310144  22.667336\n",
            " 13.9464245 23.006712  15.079898   6.548727  38.61918   30.272144\n",
            " 27.386944  15.644916  25.969126  18.653032  19.5273    23.418728\n",
            " 36.289173  11.979018  20.446167  39.206356  15.258782  14.442928\n",
            " 17.959219  18.446718  21.105978  21.056284  22.426594  31.936264\n",
            " 20.169098  19.304892  26.22556   43.528996  36.35242   19.822227\n",
            " 37.10094   53.579987  26.212606  45.721416  33.16762   19.998491 ]\n",
            "[ 7.2 18.8 19.  27.  22.2 24.5 31.2 22.9 20.5 23.2 18.6 14.5 17.8 50.\n",
            " 20.8 24.3 24.2 19.8 19.1 22.7 12.  10.2 20.  18.5 20.9 23.  27.5 30.1\n",
            "  9.5 22.  21.2 14.1 33.1 23.4 20.1  7.4 15.4 23.8 20.1 24.5 33.  28.4\n",
            " 14.1 46.7 32.5 29.6 28.4 19.8 20.2 25.  35.4 20.3  9.7 14.5 34.9 26.6\n",
            "  7.2 50.  32.4 21.6 29.8 13.1 27.5 21.2 23.1 21.9 13.  23.2  8.1  5.6\n",
            " 21.7 29.6 19.6  7.  26.4 18.9 20.9 28.1 35.4 10.2 24.3 43.1 17.6 15.4\n",
            " 16.2 27.1 21.4 21.5 22.4 25.  16.6 18.6 22.  42.8 35.1 21.5 36.  21.9\n",
            " 24.1 50.  26.7 25. ]\n"
          ],
          "name": "stdout"
        }
      ]
    }
  ]
}