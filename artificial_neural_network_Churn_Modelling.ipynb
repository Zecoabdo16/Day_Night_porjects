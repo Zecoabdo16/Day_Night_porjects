{
  "nbformat": 4,
  "nbformat_minor": 0,
  "metadata": {
    "colab": {
      "provenance": [],
      "collapsed_sections": []
    },
    "kernelspec": {
      "name": "python3",
      "display_name": "Python 3"
    }
  },
  "cells": [
    {
      "cell_type": "markdown",
      "metadata": {
        "id": "lP6JLo1tGNBg"
      },
      "source": [
        "# Artificial Neural Network"
      ]
    },
    {
      "cell_type": "markdown",
      "metadata": {
        "id": "gWZyYmS_UE_L"
      },
      "source": [
        "### Importing the libraries"
      ]
    },
    {
      "cell_type": "code",
      "source": [
        "import numpy as np\n",
        "import pandas as pd\n",
        "import tensorflow as tf"
      ],
      "metadata": {
        "id": "ipnj5IkjLUqj"
      },
      "execution_count": null,
      "outputs": []
    },
    {
      "cell_type": "code",
      "source": [
        "tf.__version__"
      ],
      "metadata": {
        "colab": {
          "base_uri": "https://localhost:8080/",
          "height": 34
        },
        "id": "7wsjFFWHMYos",
        "outputId": "64eb228c-e242-4183-ffb1-e290dfc5132a"
      },
      "execution_count": null,
      "outputs": [
        {
          "output_type": "execute_result",
          "data": {
            "text/plain": [
              "'2.8.0'"
            ],
            "application/vnd.google.colaboratory.intrinsic+json": {
              "type": "string"
            }
          },
          "metadata": {},
          "execution_count": 2
        }
      ]
    },
    {
      "cell_type": "markdown",
      "metadata": {
        "id": "1E0Q3aoKUCRX"
      },
      "source": [
        "## Part 1 - Data Preprocessing"
      ]
    },
    {
      "cell_type": "markdown",
      "metadata": {
        "id": "cKWAkFVGUU0Z"
      },
      "source": [
        "### Importing the dataset"
      ]
    },
    {
      "cell_type": "code",
      "source": [
        "dataset = pd.read_csv('Churn_Modelling.csv')\n",
        "X = dataset.iloc[:, 3:-1].values\n",
        "y = dataset.iloc[:, -1].values"
      ],
      "metadata": {
        "id": "b5MeXFEIMTHy"
      },
      "execution_count": null,
      "outputs": []
    },
    {
      "cell_type": "markdown",
      "metadata": {
        "id": "N6bQ0UgSU-NJ"
      },
      "source": [
        "### Encoding categorical data"
      ]
    },
    {
      "cell_type": "markdown",
      "metadata": {
        "id": "le5MJreAbW52"
      },
      "source": [
        "Label Encoding the \"Gender\" column"
      ]
    },
    {
      "cell_type": "code",
      "source": [
        "from sklearn.preprocessing import LabelEncoder\n",
        "le = LabelEncoder()\n",
        "X[:, 2] = le.fit_transform(X[:, 2])"
      ],
      "metadata": {
        "id": "IcK4ctonM3JG"
      },
      "execution_count": null,
      "outputs": []
    },
    {
      "cell_type": "code",
      "source": [
        "X"
      ],
      "metadata": {
        "colab": {
          "base_uri": "https://localhost:8080/"
        },
        "id": "DHgv0hXug6FN",
        "outputId": "c73d4c95-e3b5-4659-8db1-65cfebb1e82f"
      },
      "execution_count": null,
      "outputs": [
        {
          "output_type": "execute_result",
          "data": {
            "text/plain": [
              "array([[619, 'France', 0, ..., 1, 1, 101348.88],\n",
              "       [608, 'Spain', 0, ..., 0, 1, 112542.58],\n",
              "       [502, 'France', 0, ..., 1, 0, 113931.57],\n",
              "       ...,\n",
              "       [709, 'France', 0, ..., 0, 1, 42085.58],\n",
              "       [772, 'Germany', 1, ..., 1, 0, 92888.52],\n",
              "       [792, 'France', 0, ..., 1, 0, 38190.78]], dtype=object)"
            ]
          },
          "metadata": {},
          "execution_count": 5
        }
      ]
    },
    {
      "cell_type": "markdown",
      "metadata": {
        "id": "CUxGZezpbMcb"
      },
      "source": [
        "One Hot Encoding the \"Geography\" column"
      ]
    },
    {
      "cell_type": "code",
      "source": [
        "from sklearn.compose import ColumnTransformer\n",
        "from sklearn.preprocessing import OneHotEncoder\n",
        "ct = ColumnTransformer(transformers=[('encoder', OneHotEncoder(), [1])], remainder='passthrough')\n",
        "X = np.array(ct.fit_transform(X))"
      ],
      "metadata": {
        "id": "tB69m6CANB_Y"
      },
      "execution_count": null,
      "outputs": []
    },
    {
      "cell_type": "code",
      "source": [
        "print(X)"
      ],
      "metadata": {
        "colab": {
          "base_uri": "https://localhost:8080/"
        },
        "id": "LAxNNO7lMy5C",
        "outputId": "364ac591-31bb-4c01-f761-24102fdaac41"
      },
      "execution_count": null,
      "outputs": [
        {
          "output_type": "stream",
          "name": "stdout",
          "text": [
            "[[1.0 0.0 0.0 ... 1 1 101348.88]\n",
            " [0.0 0.0 1.0 ... 0 1 112542.58]\n",
            " [1.0 0.0 0.0 ... 1 0 113931.57]\n",
            " ...\n",
            " [1.0 0.0 0.0 ... 0 1 42085.58]\n",
            " [0.0 1.0 0.0 ... 1 0 92888.52]\n",
            " [1.0 0.0 0.0 ... 1 0 38190.78]]\n"
          ]
        }
      ]
    },
    {
      "cell_type": "markdown",
      "metadata": {
        "id": "vHol938cW8zd"
      },
      "source": [
        "### Splitting the dataset into the Training set and Test set"
      ]
    },
    {
      "cell_type": "code",
      "source": [
        "from sklearn.model_selection import train_test_split\n",
        "X_train, X_test, y_train, y_test = train_test_split(X, y, test_size = 0.2, random_state = 0)"
      ],
      "metadata": {
        "id": "E97FIuu4N1UP"
      },
      "execution_count": null,
      "outputs": []
    },
    {
      "cell_type": "markdown",
      "metadata": {
        "id": "RE_FcHyfV3TQ"
      },
      "source": [
        "### Feature Scaling"
      ]
    },
    {
      "cell_type": "code",
      "source": [
        "from sklearn.preprocessing import StandardScaler\n",
        "sc = StandardScaler()\n",
        "X_train = sc.fit_transform(X_train)\n",
        "X_test = sc.transform(X_test)"
      ],
      "metadata": {
        "id": "miOHcV11MgI7"
      },
      "execution_count": null,
      "outputs": []
    },
    {
      "cell_type": "markdown",
      "metadata": {
        "id": "-zfEzkRVXIwF"
      },
      "source": [
        "## Part 2 - Building the ANN"
      ]
    },
    {
      "cell_type": "markdown",
      "metadata": {
        "id": "KvdeScabXtlB"
      },
      "source": [
        "### Initializing the ANN"
      ]
    },
    {
      "cell_type": "code",
      "source": [
        "ann = tf.keras.models.Sequential()\n",
        "\n"
      ],
      "metadata": {
        "id": "4nmsOyokODPI"
      },
      "execution_count": null,
      "outputs": []
    },
    {
      "cell_type": "code",
      "source": [
        "ann.add(tf.keras.layers.Dense(units=128 , activation= 'relu'))"
      ],
      "metadata": {
        "id": "xkShiRU6l3PK"
      },
      "execution_count": null,
      "outputs": []
    },
    {
      "cell_type": "code",
      "source": [
        "ann.add(tf.keras.layers.Dense(units=64 , activation= 'relu'))"
      ],
      "metadata": {
        "id": "Upq_3gDNl0rN"
      },
      "execution_count": null,
      "outputs": []
    },
    {
      "cell_type": "markdown",
      "metadata": {
        "id": "rP6urV6SX7kS"
      },
      "source": [
        "### Adding the input layer and the first hidden layer"
      ]
    },
    {
      "cell_type": "code",
      "source": [
        "ann.add(tf.keras.layers.Dense(units=32 , activation= 'relu'))"
      ],
      "metadata": {
        "id": "S-BCdbpnOUbM"
      },
      "execution_count": null,
      "outputs": []
    },
    {
      "cell_type": "code",
      "source": [
        "ann.add(tf.keras.layers.Dense(units=16, activation='relu'))"
      ],
      "metadata": {
        "id": "bKGItxArlZ1D"
      },
      "execution_count": null,
      "outputs": []
    },
    {
      "cell_type": "code",
      "source": [
        "ann.add(tf.keras.layers.Dense(units=8, activation='relu'))"
      ],
      "metadata": {
        "id": "tIeDSbddlawA"
      },
      "execution_count": null,
      "outputs": []
    },
    {
      "cell_type": "markdown",
      "metadata": {
        "id": "BELWAc_8YJze"
      },
      "source": [
        "### Adding the second hidden layer"
      ]
    },
    {
      "cell_type": "code",
      "source": [
        "ann.add(tf.keras.layers.Dense(units=4, activation='relu'))"
      ],
      "metadata": {
        "id": "Hnvmmj6PO_PU"
      },
      "execution_count": null,
      "outputs": []
    },
    {
      "cell_type": "markdown",
      "metadata": {
        "id": "OyNEe6RXYcU4"
      },
      "source": [
        "### Adding the output layer"
      ]
    },
    {
      "cell_type": "code",
      "source": [
        "ann.add(tf.keras.layers.Dense(units=1 , activation = 'sigmoid'))"
      ],
      "metadata": {
        "id": "XScqaIsiPJuW"
      },
      "execution_count": null,
      "outputs": []
    },
    {
      "cell_type": "markdown",
      "metadata": {
        "id": "JT4u2S1_Y4WG"
      },
      "source": [
        "## Part 3 - Training the ANN"
      ]
    },
    {
      "cell_type": "code",
      "source": [
        "ann.compile(optimizer= tf.keras.optimizers.Adam(learning_rate=1e-3), loss = 'binary_crossentropy', metrics= ['accuracy'] )"
      ],
      "metadata": {
        "id": "c5VlWRerPfeq"
      },
      "execution_count": null,
      "outputs": []
    },
    {
      "cell_type": "markdown",
      "metadata": {
        "id": "8GWlJChhY_ZI"
      },
      "source": [
        "### Compiling the ANN"
      ]
    },
    {
      "cell_type": "markdown",
      "metadata": {
        "id": "0QR_G5u7ZLSM"
      },
      "source": [
        "### Training the ANN on the Training set"
      ]
    },
    {
      "cell_type": "code",
      "source": [
        "ann.fit(X_train, y_train , batch_size = 248 , epochs = 100)"
      ],
      "metadata": {
        "colab": {
          "base_uri": "https://localhost:8080/"
        },
        "id": "3N5kMnlZQQPQ",
        "outputId": "f500ab38-07df-4bbf-e7cd-dbbf55bcbd70"
      },
      "execution_count": null,
      "outputs": [
        {
          "output_type": "stream",
          "name": "stdout",
          "text": [
            "Epoch 1/100\n",
            "33/33 [==============================] - 1s 3ms/step - loss: 0.5662 - accuracy: 0.7903\n",
            "Epoch 2/100\n",
            "33/33 [==============================] - 0s 4ms/step - loss: 0.4426 - accuracy: 0.7960\n",
            "Epoch 3/100\n",
            "33/33 [==============================] - 0s 4ms/step - loss: 0.4197 - accuracy: 0.7960\n",
            "Epoch 4/100\n",
            "33/33 [==============================] - 0s 4ms/step - loss: 0.3987 - accuracy: 0.7960\n",
            "Epoch 5/100\n",
            "33/33 [==============================] - 0s 4ms/step - loss: 0.3765 - accuracy: 0.7960\n",
            "Epoch 6/100\n",
            "33/33 [==============================] - 0s 3ms/step - loss: 0.3696 - accuracy: 0.8326\n",
            "Epoch 7/100\n",
            "33/33 [==============================] - 0s 4ms/step - loss: 0.3652 - accuracy: 0.8584\n",
            "Epoch 8/100\n",
            "33/33 [==============================] - 0s 4ms/step - loss: 0.3584 - accuracy: 0.8626\n",
            "Epoch 9/100\n",
            "33/33 [==============================] - 0s 4ms/step - loss: 0.3558 - accuracy: 0.8649\n",
            "Epoch 10/100\n",
            "33/33 [==============================] - 0s 3ms/step - loss: 0.3519 - accuracy: 0.8662\n",
            "Epoch 11/100\n",
            "33/33 [==============================] - 0s 4ms/step - loss: 0.3502 - accuracy: 0.8661\n",
            "Epoch 12/100\n",
            "33/33 [==============================] - 0s 3ms/step - loss: 0.3491 - accuracy: 0.8690\n",
            "Epoch 13/100\n",
            "33/33 [==============================] - 0s 4ms/step - loss: 0.3443 - accuracy: 0.8704\n",
            "Epoch 14/100\n",
            "33/33 [==============================] - 0s 3ms/step - loss: 0.3404 - accuracy: 0.8730\n",
            "Epoch 15/100\n",
            "33/33 [==============================] - 0s 4ms/step - loss: 0.3397 - accuracy: 0.8705\n",
            "Epoch 16/100\n",
            "33/33 [==============================] - 0s 3ms/step - loss: 0.3357 - accuracy: 0.8752\n",
            "Epoch 17/100\n",
            "33/33 [==============================] - 0s 4ms/step - loss: 0.3346 - accuracy: 0.8754\n",
            "Epoch 18/100\n",
            "33/33 [==============================] - 0s 3ms/step - loss: 0.3284 - accuracy: 0.8759\n",
            "Epoch 19/100\n",
            "33/33 [==============================] - 0s 4ms/step - loss: 0.3286 - accuracy: 0.8723\n",
            "Epoch 20/100\n",
            "33/33 [==============================] - 0s 3ms/step - loss: 0.3234 - accuracy: 0.8789\n",
            "Epoch 21/100\n",
            "33/33 [==============================] - 0s 3ms/step - loss: 0.3216 - accuracy: 0.8775\n",
            "Epoch 22/100\n",
            "33/33 [==============================] - 0s 3ms/step - loss: 0.3158 - accuracy: 0.8796\n",
            "Epoch 23/100\n",
            "33/33 [==============================] - 0s 3ms/step - loss: 0.3145 - accuracy: 0.8816\n",
            "Epoch 24/100\n",
            "33/33 [==============================] - 0s 3ms/step - loss: 0.3102 - accuracy: 0.8823\n",
            "Epoch 25/100\n",
            "33/33 [==============================] - 0s 3ms/step - loss: 0.3056 - accuracy: 0.8811\n",
            "Epoch 26/100\n",
            "33/33 [==============================] - 0s 4ms/step - loss: 0.3085 - accuracy: 0.8814\n",
            "Epoch 27/100\n",
            "33/33 [==============================] - 0s 4ms/step - loss: 0.3025 - accuracy: 0.8816\n",
            "Epoch 28/100\n",
            "33/33 [==============================] - 0s 4ms/step - loss: 0.2967 - accuracy: 0.8878\n",
            "Epoch 29/100\n",
            "33/33 [==============================] - 0s 3ms/step - loss: 0.2930 - accuracy: 0.8854\n",
            "Epoch 30/100\n",
            "33/33 [==============================] - 0s 3ms/step - loss: 0.2909 - accuracy: 0.8892\n",
            "Epoch 31/100\n",
            "33/33 [==============================] - 0s 4ms/step - loss: 0.2938 - accuracy: 0.8894\n",
            "Epoch 32/100\n",
            "33/33 [==============================] - 0s 4ms/step - loss: 0.2851 - accuracy: 0.8894\n",
            "Epoch 33/100\n",
            "33/33 [==============================] - 0s 4ms/step - loss: 0.2842 - accuracy: 0.8890\n",
            "Epoch 34/100\n",
            "33/33 [==============================] - 0s 3ms/step - loss: 0.2786 - accuracy: 0.8941\n",
            "Epoch 35/100\n",
            "33/33 [==============================] - 0s 4ms/step - loss: 0.2849 - accuracy: 0.8896\n",
            "Epoch 36/100\n",
            "33/33 [==============================] - 0s 4ms/step - loss: 0.2764 - accuracy: 0.8901\n",
            "Epoch 37/100\n",
            "33/33 [==============================] - 0s 4ms/step - loss: 0.2640 - accuracy: 0.8981\n",
            "Epoch 38/100\n",
            "33/33 [==============================] - 0s 4ms/step - loss: 0.2674 - accuracy: 0.8972\n",
            "Epoch 39/100\n",
            "33/33 [==============================] - 0s 4ms/step - loss: 0.2619 - accuracy: 0.8984\n",
            "Epoch 40/100\n",
            "33/33 [==============================] - 0s 3ms/step - loss: 0.2564 - accuracy: 0.9007\n",
            "Epoch 41/100\n",
            "33/33 [==============================] - 0s 3ms/step - loss: 0.2639 - accuracy: 0.8941\n",
            "Epoch 42/100\n",
            "33/33 [==============================] - 0s 3ms/step - loss: 0.2560 - accuracy: 0.9016\n",
            "Epoch 43/100\n",
            "33/33 [==============================] - 0s 4ms/step - loss: 0.2529 - accuracy: 0.8996\n",
            "Epoch 44/100\n",
            "33/33 [==============================] - 0s 4ms/step - loss: 0.2500 - accuracy: 0.8960\n",
            "Epoch 45/100\n",
            "33/33 [==============================] - 0s 4ms/step - loss: 0.2368 - accuracy: 0.9106\n",
            "Epoch 46/100\n",
            "33/33 [==============================] - 0s 3ms/step - loss: 0.2391 - accuracy: 0.9074\n",
            "Epoch 47/100\n",
            "33/33 [==============================] - 0s 3ms/step - loss: 0.2369 - accuracy: 0.9054\n",
            "Epoch 48/100\n",
            "33/33 [==============================] - 0s 3ms/step - loss: 0.2309 - accuracy: 0.9085\n",
            "Epoch 49/100\n",
            "33/33 [==============================] - 0s 3ms/step - loss: 0.2223 - accuracy: 0.9126\n",
            "Epoch 50/100\n",
            "33/33 [==============================] - 0s 4ms/step - loss: 0.2180 - accuracy: 0.9161\n",
            "Epoch 51/100\n",
            "33/33 [==============================] - 0s 3ms/step - loss: 0.2188 - accuracy: 0.9141\n",
            "Epoch 52/100\n",
            "33/33 [==============================] - 0s 4ms/step - loss: 0.2165 - accuracy: 0.9143\n",
            "Epoch 53/100\n",
            "33/33 [==============================] - 0s 3ms/step - loss: 0.2206 - accuracy: 0.9109\n",
            "Epoch 54/100\n",
            "33/33 [==============================] - 0s 3ms/step - loss: 0.2137 - accuracy: 0.9143\n",
            "Epoch 55/100\n",
            "33/33 [==============================] - 0s 4ms/step - loss: 0.2104 - accuracy: 0.9147\n",
            "Epoch 56/100\n",
            "33/33 [==============================] - 0s 3ms/step - loss: 0.2013 - accuracy: 0.9206\n",
            "Epoch 57/100\n",
            "33/33 [==============================] - 0s 4ms/step - loss: 0.1972 - accuracy: 0.9211\n",
            "Epoch 58/100\n",
            "33/33 [==============================] - 0s 4ms/step - loss: 0.1971 - accuracy: 0.9220\n",
            "Epoch 59/100\n",
            "33/33 [==============================] - 0s 4ms/step - loss: 0.1980 - accuracy: 0.9190\n",
            "Epoch 60/100\n",
            "33/33 [==============================] - 0s 4ms/step - loss: 0.1824 - accuracy: 0.9305\n",
            "Epoch 61/100\n",
            "33/33 [==============================] - 0s 3ms/step - loss: 0.1900 - accuracy: 0.9276\n",
            "Epoch 62/100\n",
            "33/33 [==============================] - 0s 3ms/step - loss: 0.1911 - accuracy: 0.9246\n",
            "Epoch 63/100\n",
            "33/33 [==============================] - 0s 4ms/step - loss: 0.1762 - accuracy: 0.9339\n",
            "Epoch 64/100\n",
            "33/33 [==============================] - 0s 4ms/step - loss: 0.1730 - accuracy: 0.9336\n",
            "Epoch 65/100\n",
            "33/33 [==============================] - 0s 4ms/step - loss: 0.1740 - accuracy: 0.9291\n",
            "Epoch 66/100\n",
            "33/33 [==============================] - 0s 4ms/step - loss: 0.1744 - accuracy: 0.9325\n",
            "Epoch 67/100\n",
            "33/33 [==============================] - 0s 4ms/step - loss: 0.1919 - accuracy: 0.9211\n",
            "Epoch 68/100\n",
            "33/33 [==============================] - 0s 4ms/step - loss: 0.1755 - accuracy: 0.9310\n",
            "Epoch 69/100\n",
            "33/33 [==============================] - 0s 4ms/step - loss: 0.1664 - accuracy: 0.9359\n",
            "Epoch 70/100\n",
            "33/33 [==============================] - 0s 4ms/step - loss: 0.1577 - accuracy: 0.9413\n",
            "Epoch 71/100\n",
            "33/33 [==============================] - 0s 4ms/step - loss: 0.1706 - accuracy: 0.9323\n",
            "Epoch 72/100\n",
            "33/33 [==============================] - 0s 4ms/step - loss: 0.1652 - accuracy: 0.9356\n",
            "Epoch 73/100\n",
            "33/33 [==============================] - 0s 4ms/step - loss: 0.1537 - accuracy: 0.9434\n",
            "Epoch 74/100\n",
            "33/33 [==============================] - 0s 4ms/step - loss: 0.1519 - accuracy: 0.9423\n",
            "Epoch 75/100\n",
            "33/33 [==============================] - 0s 4ms/step - loss: 0.1477 - accuracy: 0.9452\n",
            "Epoch 76/100\n",
            "33/33 [==============================] - 0s 4ms/step - loss: 0.1420 - accuracy: 0.9482\n",
            "Epoch 77/100\n",
            "33/33 [==============================] - 0s 3ms/step - loss: 0.1381 - accuracy: 0.9482\n",
            "Epoch 78/100\n",
            "33/33 [==============================] - 0s 4ms/step - loss: 0.1442 - accuracy: 0.9463\n",
            "Epoch 79/100\n",
            "33/33 [==============================] - 0s 4ms/step - loss: 0.1466 - accuracy: 0.9448\n",
            "Epoch 80/100\n",
            "33/33 [==============================] - 0s 4ms/step - loss: 0.1653 - accuracy: 0.9358\n",
            "Epoch 81/100\n",
            "33/33 [==============================] - 0s 3ms/step - loss: 0.1474 - accuracy: 0.9449\n",
            "Epoch 82/100\n",
            "33/33 [==============================] - 0s 3ms/step - loss: 0.1365 - accuracy: 0.9507\n",
            "Epoch 83/100\n",
            "33/33 [==============================] - 0s 4ms/step - loss: 0.1361 - accuracy: 0.9499\n",
            "Epoch 84/100\n",
            "33/33 [==============================] - 0s 4ms/step - loss: 0.1390 - accuracy: 0.9479\n",
            "Epoch 85/100\n",
            "33/33 [==============================] - 0s 4ms/step - loss: 0.1345 - accuracy: 0.9495\n",
            "Epoch 86/100\n",
            "33/33 [==============================] - 0s 4ms/step - loss: 0.1361 - accuracy: 0.9510\n",
            "Epoch 87/100\n",
            "33/33 [==============================] - 0s 4ms/step - loss: 0.1269 - accuracy: 0.9540\n",
            "Epoch 88/100\n",
            "33/33 [==============================] - 0s 4ms/step - loss: 0.1281 - accuracy: 0.9523\n",
            "Epoch 89/100\n",
            "33/33 [==============================] - 0s 4ms/step - loss: 0.1193 - accuracy: 0.9580\n",
            "Epoch 90/100\n",
            "33/33 [==============================] - 0s 4ms/step - loss: 0.1087 - accuracy: 0.9595\n",
            "Epoch 91/100\n",
            "33/33 [==============================] - 0s 4ms/step - loss: 0.1150 - accuracy: 0.9581\n",
            "Epoch 92/100\n",
            "33/33 [==============================] - 0s 3ms/step - loss: 0.1130 - accuracy: 0.9571\n",
            "Epoch 93/100\n",
            "33/33 [==============================] - 0s 4ms/step - loss: 0.1287 - accuracy: 0.9496\n",
            "Epoch 94/100\n",
            "33/33 [==============================] - 0s 4ms/step - loss: 0.1539 - accuracy: 0.9430\n",
            "Epoch 95/100\n",
            "33/33 [==============================] - 0s 4ms/step - loss: 0.1387 - accuracy: 0.9488\n",
            "Epoch 96/100\n",
            "33/33 [==============================] - 0s 4ms/step - loss: 0.1114 - accuracy: 0.9582\n",
            "Epoch 97/100\n",
            "33/33 [==============================] - 0s 4ms/step - loss: 0.1000 - accuracy: 0.9654\n",
            "Epoch 98/100\n",
            "33/33 [==============================] - 0s 4ms/step - loss: 0.1041 - accuracy: 0.9625\n",
            "Epoch 99/100\n",
            "33/33 [==============================] - 0s 4ms/step - loss: 0.1183 - accuracy: 0.9559\n",
            "Epoch 100/100\n",
            "33/33 [==============================] - 0s 4ms/step - loss: 0.1216 - accuracy: 0.9551\n"
          ]
        },
        {
          "output_type": "execute_result",
          "data": {
            "text/plain": [
              "<keras.callbacks.History at 0x7f5809b1b890>"
            ]
          },
          "metadata": {},
          "execution_count": 46
        }
      ]
    },
    {
      "cell_type": "markdown",
      "metadata": {
        "id": "tJj5k2MxZga3"
      },
      "source": [
        "## Part 4 - Making the predictions and evaluating the model"
      ]
    },
    {
      "cell_type": "markdown",
      "metadata": {
        "id": "84QFoqGYeXHL"
      },
      "source": [
        "### Predicting the result of a single observation"
      ]
    },
    {
      "cell_type": "markdown",
      "metadata": {
        "id": "CGRo3eacgDdC"
      },
      "source": [
        "**Homework**\n",
        "\n",
        "Use our ANN model to predict if the customer with the following informations will leave the bank: \n",
        "\n",
        "Geography: France\n",
        "\n",
        "Credit Score: 600\n",
        "\n",
        "Gender: Male\n",
        "\n",
        "Age: 40 years old\n",
        "\n",
        "Tenure: 3 years\n",
        "\n",
        "Balance: \\$ 60000\n",
        "\n",
        "Number of Products: 2\n",
        "\n",
        "Does this customer have a credit card? Yes\n",
        "\n",
        "Is this customer an Active Member: Yes\n",
        "\n",
        "Estimated Salary: \\$ 50000\n",
        "\n",
        "So, should we say goodbye to that customer?"
      ]
    },
    {
      "cell_type": "markdown",
      "metadata": {
        "id": "ZhU1LTgPg-kH"
      },
      "source": [
        "**Solution**"
      ]
    },
    {
      "cell_type": "code",
      "metadata": {
        "id": "2d8IoCCkeWGL",
        "outputId": "f6884d43-6b37-4d3a-d701-d85cf612a7c8",
        "colab": {
          "base_uri": "https://localhost:8080/"
        }
      },
      "source": [
        "print(ann.predict(sc.transform([[1, 1, 0, 600, 1, 40, 3, 60000, 2, 1, 1, 90000]])) > 0.5)"
      ],
      "execution_count": null,
      "outputs": [
        {
          "output_type": "stream",
          "name": "stdout",
          "text": [
            "[[False]]\n"
          ]
        }
      ]
    },
    {
      "cell_type": "markdown",
      "metadata": {
        "id": "wGjx94g2n7OV"
      },
      "source": [
        "Therefore, our ANN model predicts that this customer stays in the bank!\n",
        "\n",
        "**Important note 1:** Notice that the values of the features were all input in a double pair of square brackets. That's because the \"predict\" method always expects a 2D array as the format of its inputs. And putting our values into a double pair of square brackets makes the input exactly a 2D array.\n",
        "\n",
        "**Important note 2:** Notice also that the \"France\" country was not input as a string in the last column but as \"1, 0, 0\" in the first three columns. That's because of course the predict method expects the one-hot-encoded values of the state, and as we see in the first row of the matrix of features X, \"France\" was encoded as \"1, 0, 0\". And be careful to include these values in the first three columns, because the dummy variables are always created in the first columns."
      ]
    },
    {
      "cell_type": "markdown",
      "metadata": {
        "id": "u7yx47jPZt11"
      },
      "source": [
        "### Predicting the Test set results"
      ]
    },
    {
      "cell_type": "code",
      "metadata": {
        "id": "nIyEeQdRZwgs",
        "outputId": "7c201e8b-5e58-4035-c1f8-ef6e10b4899d",
        "colab": {
          "base_uri": "https://localhost:8080/"
        }
      },
      "source": [
        "y_pred = ann.predict(X_test)\n",
        "y_pred = (y_pred > 0.5)\n",
        "print(np.concatenate((y_pred.reshape(len(y_pred),1), y_test.reshape(len(y_test),1)),1))"
      ],
      "execution_count": null,
      "outputs": [
        {
          "output_type": "stream",
          "name": "stdout",
          "text": [
            "[[1 0]\n",
            " [0 1]\n",
            " [0 0]\n",
            " ...\n",
            " [0 0]\n",
            " [1 0]\n",
            " [0 0]]\n"
          ]
        }
      ]
    },
    {
      "cell_type": "markdown",
      "metadata": {
        "id": "o0oyfLWoaEGw"
      },
      "source": [
        "### Making the Confusion Matrix"
      ]
    },
    {
      "cell_type": "code",
      "metadata": {
        "id": "ci6K_r6LaF6P",
        "outputId": "4a1b1918-d156-4175-fbdd-4484fb2e78a6",
        "colab": {
          "base_uri": "https://localhost:8080/"
        }
      },
      "source": [
        "from sklearn.metrics import confusion_matrix, accuracy_score\n",
        "cm = confusion_matrix(y_test, y_pred)\n",
        "print(cm)\n",
        "accuracy_score(y_test, y_pred)"
      ],
      "execution_count": null,
      "outputs": [
        {
          "output_type": "stream",
          "name": "stdout",
          "text": [
            "[[1349  246]\n",
            " [ 167  238]]\n"
          ]
        },
        {
          "output_type": "execute_result",
          "data": {
            "text/plain": [
              "0.7935"
            ]
          },
          "metadata": {},
          "execution_count": 49
        }
      ]
    },
    {
      "cell_type": "code",
      "source": [],
      "metadata": {
        "id": "pkmX7D0bTeCB"
      },
      "execution_count": null,
      "outputs": []
    }
  ]
}